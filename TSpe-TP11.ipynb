{
 "cells": [
  {
   "cell_type": "markdown",
   "metadata": {},
   "source": [
    "# Mouvement de rotation  \n",
    "\n",
    "Les séparateurs décimaux en langage python sont des points.  \n",
    "Cependant nous autres français avons l'habitude d'utiliser des virgules ... Tous nos logiciels sont donc adaptés et utilisent des virgues comme séparateurs décimaux.  \n",
    "\n",
    "La première étape consiste donc à remplacer toutes les virgules par des points, dans notre fichier de pointage.\n",
    "\n",
    "> Le programme ci-dessous remplacerait les **?** par des **!** - Modifier ce programme pour qu'il remplace les **,** par des **.** puis l'exécuter."
   ]
  },
  {
   "cell_type": "code",
   "execution_count": null,
   "metadata": {},
   "outputs": [],
   "source": [
    "import matplotlib.pyplot as plt\n",
    "import numpy as np\n",
    "\n",
    "# Remplacement des , par des . dans le fichier de données\n",
    "fmaster = open(\"pointage.txt\", \"rt\") #fichier maitre\n",
    "fout = open(\"pointagepoint.txt\", \"wt\") #fichier modifié\n",
    "for line in fmaster:\n",
    "    fout.write(line.replace('?', '!'))\n",
    "fmaster.close()\n",
    "fout.close()"
   ]
  },
  {
   "cell_type": "markdown",
   "metadata": {},
   "source": [
    "Le programme ci-dessous permet alors de tracer la trajectoire de la pastille, ainsi que le vecteur vitesse et le vecteur accélération en chaque point.\n",
    "\n",
    "> Exécuter le programme."
   ]
  },
  {
   "cell_type": "code",
   "execution_count": null,
   "metadata": {},
   "outputs": [],
   "source": [
    "# Lecture des données du fichier\n",
    "t,x,y = np.loadtxt('pointagepoint.txt', unpack=True, skiprows = 3)\n",
    "\n",
    "# Calcul de la vitesse, à partir de la position\n",
    "vx, vy = [], []\n",
    "for i in range(1, len(x)-1) :\n",
    "    vx.append((x[i+1]-x[i-1])/(t[i+1]-t[i-1]))\n",
    "    vy.append((y[i+1]-y[i-1])/(t[i+1]-t[i-1]))\n",
    "\n",
    "# Calcul de l'accélération, à partir de la vitesse\n",
    "ax, ay = [], []\n",
    "for i in range(1, len(vx)-1) :\n",
    "    ax.append((vx[i+1]-vx[i-1])/(t[i+1]-t[i-1]))\n",
    "    ay.append((vy[i+1]-vy[i-1])/(t[i+1]-t[i-1]))\n",
    "\n",
    "# Creation du graphique\n",
    "plt.axis('equal')\n",
    "plt.title('Trajectoire de la pastille')\n",
    "plt.xlabel('x (m)')\n",
    "plt.ylabel('y (m)')\n",
    "plt.plot(x, y, color = 'green', label = 'Trajectoire', marker = '+')\n",
    "\n",
    "# Tracé des vecteurs vitesse\n",
    "for i in range(len(vx)) :\n",
    "    plt.quiver(x[i+1], y[i+1], vx[i], vy[i], angles = \"xy\", scale_units = \"xy\", scale = 5, color = \"red\")\n",
    "\n",
    "# Tracé des vecteurs accélération\n",
    "for i in range(len(ax)) :\n",
    "    plt.quiver(x[i+2], y[i+2], ax[i], ay[i], angles = \"xy\", scale_units = \"xy\", scale = 50, color = \"blue\")\n",
    "\n",
    "# Fin de la creation du graphique\n",
    "plt.legend()\n",
    "plt.show()"
   ]
  },
  {
   "cell_type": "code",
   "execution_count": null,
   "metadata": {},
   "outputs": [],
   "source": []
  }
 ],
 "metadata": {
  "kernelspec": {
   "display_name": "Python 3",
   "language": "python",
   "name": "python3"
  },
  "language_info": {
   "codemirror_mode": {
    "name": "ipython",
    "version": 3
   },
   "file_extension": ".py",
   "mimetype": "text/x-python",
   "name": "python",
   "nbconvert_exporter": "python",
   "pygments_lexer": "ipython3",
   "version": "3.8.8"
  }
 },
 "nbformat": 4,
 "nbformat_minor": 4
}
