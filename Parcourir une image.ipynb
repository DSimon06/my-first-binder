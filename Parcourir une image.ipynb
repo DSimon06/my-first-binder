{
 "cells": [
  {
   "cell_type": "markdown",
   "metadata": {},
   "source": [
    "# **Parcourir une image**  \n",
    "## 1- Récupérer un pixel  \n",
    "\n",
    "Le programme ci-dessous ouvre l'image \"pomme\", récupère un pixel de la pomme puis affiche :  \n",
    "- ses composantes RVB,\n",
    "- le pixel agrandi\n",
    "- l'image de la pomme  \n",
    "\n",
    "***Remarque*** *: Dans les programmes, tout ce qui est écrit après un `#` est un commentaire, et ne fait pas partie du programme en lui-même.*\n",
    "\n",
    "> **Exécuter** le programme (bouton triangle en haut de la page). \n",
    "\n",
    "> **Modifier** le programme pour qu'il récupère le pixel de coordonnées (275,300) et répondre à la question 1 sur la feuille."
   ]
  },
  {
   "cell_type": "code",
   "execution_count": null,
   "metadata": {
    "scrolled": true
   },
   "outputs": [],
   "source": [
    "from PIL import Image               # Importe les bibliothèques nécessaires.\n",
    "\n",
    "img = Image.open(\"pomme.jpg\")       # Ouvre l'image et la stocke dans la variable \"img\".\n",
    "\n",
    "r,v,b = img.getpixel((300,300))     # Récupère dans les variables r,v,b, la quantité de rouge, de vert et de bleu \n",
    "                                    # du pixel situé en x=300 et y=300.\n",
    "\n",
    "print(\"rouge =\",r,\"vert =\",v,\"bleu =\",b)\n",
    "\n",
    "Pixel = Image.new('RGB', (100, 100), (r,v,b)) # Crée une image appelée \"Pixel\" : un carré de 100 x 100 de la couleur du pixel récupéré\n",
    "display(Pixel)\n",
    "display(img)"
   ]
  },
  {
   "cell_type": "markdown",
   "metadata": {},
   "source": [
    "## 2- Modifier un pixel  \n",
    "\n",
    "Le programme ci-dessous ouvre l'image \"pomme\" puis change les couleurs du pixel de corrdonnées (300,300) par les valeurs RVB (255,0,0).   \n",
    "\n",
    "> **Exécuter** le programme. Observer l'image en obtenue en zoomant pour voir la modification et répondre à la question 2 sur la feuille.\n",
    "\n",
    "> **Modifier** le programme pour qu'il trace (pixel par pixel) un carré de couleur cyan de dimension 3 pixels x 3 pixels sur la pomme et montrer le résultat au professeur"
   ]
  },
  {
   "cell_type": "code",
   "execution_count": null,
   "metadata": {},
   "outputs": [],
   "source": [
    "from PIL import Image               # Importe les bibliothèques nécessaires.\n",
    "\n",
    "img = Image.open(\"pomme.jpg\")       # Ouvre l'image et la stocke dans la variable \"img\".\n",
    "\n",
    "img.putpixel((300,300),(0,255,255)) # Changement du pixel situé à la coordonnée (300,300) par les valeurs RVB (255,0,0)\n",
    "\n",
    "\n",
    "\n",
    "display(img)                        # Affiche l'image.\n",
    "img.save(\"pomme modif.png\",\"png\")   # Enregistre la nouvelle image sous le nom \"pomme modif\""
   ]
  },
  {
   "cell_type": "code",
   "execution_count": null,
   "metadata": {},
   "outputs": [],
   "source": []
  }
 ],
 "metadata": {
  "kernelspec": {
   "display_name": "Python 3",
   "language": "python",
   "name": "python3"
  },
  "language_info": {
   "codemirror_mode": {
    "name": "ipython",
    "version": 3
   },
   "file_extension": ".py",
   "mimetype": "text/x-python",
   "name": "python",
   "nbconvert_exporter": "python",
   "pygments_lexer": "ipython3",
   "version": "3.8.7"
  }
 },
 "nbformat": 4,
 "nbformat_minor": 5
}
