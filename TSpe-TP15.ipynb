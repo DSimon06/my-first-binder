{
 "cells": [
  {
   "cell_type": "markdown",
   "metadata": {},
   "source": [
    "# TP15 - L'équilibre acido-basique"
   ]
  },
  {
   "cell_type": "markdown",
   "metadata": {},
   "source": [
    "La plupart des réactions acido-basiques en solution aqueuses sont limitées. A l'équilibre, il y a donc coexistence de l'acide et de la base conjugué d'un couple.\n",
    "\n",
    "On s'intéresse dans un premier temps au **taux d'avancement** de ces équilibres acido-basiques et dans un deuxième temps à la **proportion d'acide et de base conjuguée** présentes à l'équilibre.\n",
    "\n",
    "\n",
    "\n",
    "### _Partie 1_ : Le taux d'avancement\n",
    "\n",
    "#### _Premier paramètre_ : La concentration apportée en acide *C*\n",
    "\n",
    "Le programme ci-dessous a pour but de représenter l'évolution du taux d'avancement à l'équilibre en fonction de la concentration apportée en acide, pour un couple de pKa donné.\n",
    "\n",
    ">Q1- Compléter le programme afin de calculer les valeurs de Ka_1, du discriminant Delta_1 et du TauxFinal_1, puis exécuter le programme pour l'acide éthanoïque, de pKa = 4,75. *Remarque* : \"puissance\" se programme par `**`.\n",
    "\n",
    ">Q2- Décrire l'influence de la concentration apportée en acide sur le taux d'avancement final pour un couple donnée. La courbe obtenue est-elle cohérente avec les résultats expérimentaux ?\n",
    "\n",
    ">Q3- Ajouter toutes les lignes nécessaires pour superposer à cette courbe celle d'un deuxième cpoule de pKa_2.\n",
    "\n",
    ">Q4- Quelle semble être l'influence du pKa sur le taux d'avancement final ?"
   ]
  },
  {
   "cell_type": "code",
   "execution_count": null,
   "metadata": {},
   "outputs": [],
   "source": [
    "# Influence de la concentration apportée en acide sur le taux d'avancement final\n",
    "from matplotlib import pyplot as plt\n",
    "import numpy as np\n",
    "\n",
    "pKa_1 = float(input(\"Choisir la valeur du pKa du couple acide-base n°1 : pKa_1 = \"))\n",
    "Ka_1 = \n",
    "\n",
    "C = np.linspace(0.01,1,100) # 100 valeurs allant de 0,01 à 1\n",
    "\n",
    "Delta_1 = \n",
    "TauxFinal_1 = \n",
    "\n",
    "plt.title(\"Influence de la concentration sur le taux final\")\n",
    "plt.xlabel(\"C (mol/L)\")\n",
    "plt.ylabel(\"Taux d'avancement final\")\n",
    "plt.plot(C_i,TauxFinal_1,c=\"red\",marker=\"o\",label=\"Taux final du couple n°1\")\n",
    "\n",
    "plt.grid()\n",
    "plt.legend()\n",
    "plt.show()"
   ]
  },
  {
   "cell_type": "markdown",
   "metadata": {},
   "source": [
    "### _Deuxième paramètre_ : La valeur du p*K*a du couple\n",
    "\n",
    "Afin d'étudier l'influence du pKa du couple, on doit **fixer le premier paramètre qu'est la concentration en acide apportée**, et **faire varier la valeur du pKa**, afin de pouvoir tracer l'évolution du taux d'avancement à l'équilibre en fonction du pKa du couple, pour une concentration apportée en acide donnée.\n",
    "\n",
    ">Q5- Exploiter le programme initial, reproduit ci-dessous, **en échangeant les rôles des deux paramètres** afin d'obtenir la courbe du taux final en fonction du pKa (pour 141 valeurs du pKa, entre 0 et 14).\n",
    "\n",
    ">Q6- Décrire l'influence du pKa d'un couple acide-base sur le taux d'avancement final, pour une concentration donnée.\n",
    "\n",
    ">Q7- Un acide fort est un acide qui réagit totalement avec l'eau. En déduire le pKa du couple d'un tel acide.\n"
   ]
  },
  {
   "cell_type": "code",
   "execution_count": null,
   "metadata": {},
   "outputs": [],
   "source": [
    "# Influence du pKa sur le taux d'avancement final\n",
    "from matplotlib import pyplot as plt\n",
    "import numpy as np\n",
    "\n",
    "pKa = float(input(\"Choisir la valeur du pKa du couple acide-base n°1 : pKa = \"))\n",
    "Ka = \n",
    "\n",
    "C = np.linspace(0.01,1,100) # 100 valeurs allant de 0,01 à 1\n",
    "\n",
    "Delta = \n",
    "TauxFinal = \n",
    "\n",
    "plt.title(\"Influence de la concentration sur le taux final\")\n",
    "plt.xlabel(\"C (mol/L)\")\n",
    "plt.ylabel(\"Taux d'avancement final\")\n",
    "plt.plot(C_i,TauxFinal,c=\"red\",marker=\"o\")\n",
    "\n",
    "plt.grid()\n",
    "plt.show()"
   ]
  },
  {
   "cell_type": "markdown",
   "metadata": {},
   "source": [
    "## *Retourner à l'énoncé du TP*\n",
    "\n",
    "\n",
    "### _Partie 2_ : Diagramme de distribution\n",
    "\n",
    "Les acides faibles sont des acides qui réagissent partiellement avec l'eau. Ainsi l'acide et la base conjuguée du couple coexistent en solution.\n",
    "Dans le programme suivant, on cherche à représenter les pourcentages respectifs de l'acide et de la base d'un couple, suivant le pH de la solution.\n",
    "\n",
    ">Q8- A l'aide des relations établies dans le TP, compléter les lignes de calcul du programme, puis l'exécuter pour l'acide éthanoïque, de pKa = 4,75 et *C*i = 0,1 mol/L .\n",
    "\n",
    ">Q9- Comment repère-t-on la valeur du pKa du couple sur un diagramme de distribution ?"
   ]
  },
  {
   "cell_type": "code",
   "execution_count": null,
   "metadata": {},
   "outputs": [],
   "source": [
    "# Tracé du diagramme de distribution des espèces conjuguées AH/A- ou A/B\n",
    "\n",
    "import numpy as np\n",
    "from matplotlib import pyplot as plt\n",
    "\n",
    "pKa = float(input(\"Entrer la valeur du pKa du couple acide-base : pKa = \"))\n",
    "Ci = float(input(\"Entrer la valeur de la concentration apportée de l'acide en mol/L: Ci =\"))\n",
    "\n",
    "pH = np.linspace(0,14,141)# 141 valeurs allant de 0 à 14\n",
    "\n",
    "CA = \n",
    "CB = \n",
    "\n",
    "pA =           # Pourcentage de l'espèce AH\n",
    "pB =           # Pourcentage de l'espèce A-\n",
    "\n",
    "plt.title(\"Diagramme de distribution des espèces AH et A-\")\n",
    "plt.xlabel(\"pH\")\n",
    "plt.ylabel(\"Pourcentage des espèces (%)\")\n",
    "plt.grid(True)\n",
    "\n",
    "plt.plot(pH,pA,c='red',label=\"Pourcentage de la forme acide AH\") # Courbe du pourcentage de AH en fonction du pH\n",
    "plt.plot(pH,pB,c='green',label=\"Pourcentage de la forme basique A-\") # Courbe du pourcentage de A- en fonction du pH\n",
    "\n",
    "plt.legend()\n",
    "plt.show()"
   ]
  },
  {
   "cell_type": "markdown",
   "metadata": {},
   "source": [
    "## *Retourner à l'énoncé du TP*"
   ]
  }
 ],
 "metadata": {
  "kernelspec": {
   "display_name": "Python 3",
   "language": "python",
   "name": "python3"
  },
  "language_info": {
   "codemirror_mode": {
    "name": "ipython",
    "version": 3
   },
   "file_extension": ".py",
   "mimetype": "text/x-python",
   "name": "python",
   "nbconvert_exporter": "python",
   "pygments_lexer": "ipython3",
   "version": "3.6.8"
  }
 },
 "nbformat": 4,
 "nbformat_minor": 4
}
