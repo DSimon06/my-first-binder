{
 "cells": [
  {
   "cell_type": "markdown",
   "metadata": {},
   "source": [
    "# TP11 - Un lance-balle automatique"
   ]
  },
  {
   "cell_type": "markdown",
   "metadata": {},
   "source": [
    "### *_Exercice 28 p.312_*\n",
    "____\n",
    "> Q1- Répondre à la question 1 de l'exercice.  \n",
    ">\n",
    ">*Indication : utiliser la conservation de l'énergie mécanique.*\n",
    "\n",
    "> Q2- Noter la valeur de la vitesse initiale v dans le programme ci-dessous, puis l'exécuter."
   ]
  },
  {
   "cell_type": "code",
   "execution_count": null,
   "metadata": {
    "scrolled": true
   },
   "outputs": [],
   "source": [
    "# Appel des biliothèques nécessaires pour le programme\n",
    "from matplotlib import pyplot as plt\n",
    "import math\n",
    "import numpy as np\n",
    "\n",
    "# Entrée des données de l'énoncé\n",
    "v =\n",
    "alpha = 30\n",
    "g = 9.81\n",
    "dt = 0.05\n",
    "N = 100\n",
    "H = 1.35\n",
    "\n",
    "alpha_rad = alpha * math.pi / 180\n",
    "\n",
    "# Création des grandeurs (vides) t, x, y1 et y2\n",
    "t=[]\n",
    "x=[]\n",
    "y1=[]\n",
    "y2=[]\n",
    "\n",
    "# Calcul des différentes valeurs de ces grandeurs au cours du mouvement\n",
    "for i in range (0,N):\n",
    "    t.append(i*dt)\n",
    "    x.append(v*np.cos(alpha_rad)*t[i])\n",
    "    y1.append(-0.5*g*t[i]*t[i]+v*np.sin(alpha_rad)*t[i])\n",
    "    y2.append(H)\n",
    "\n",
    "# Tracé des deux courbes\n",
    "plt.plot(x,y1,'b+')\n",
    "plt.plot(x, y2,'r-')\n",
    "plt.xlim(0,20)\n",
    "plt.ylim(0,4)\n",
    "plt.xlabel(\"x(m)\")\n",
    "plt.ylabel(\"y(m)\")\n",
    "\n",
    "plt.show()\n"
   ]
  },
  {
   "cell_type": "markdown",
   "metadata": {},
   "source": [
    ">Q3- Lire les questions 2 et 3 de l'exercice (auxquelles on pourra répondre **à la maison** en guise d'exercice).  \n",
    ">\n",
    ">*Indications :*  \n",
    ">- *Pour la question 2, établir les équations horaires du mouvement, puis éliminer le paramètre 't'.*\n",
    ">- *Pour la question 3, déterminer ymax, connaissant vy au sommet de la trajectoire.*\n",
    "\n",
    ">Q4- Que représentent les courbes y1 et y2 ? Conclure en répondant à la question 3 de l'exercice.\n",
    "\n",
    ">Q5- A quoi sert la ligne « alpha_rad = alpha * math.pi / 180 » ?\n",
    "\n",
    ">Q6- Ajouter les 2 lignes suivantes dans le programme afin de calculer et afficher la valeur maximale de y1, appelée flèche de la trajectoire, arrondie à la 2ème décimale :  \n",
    ">>`fleche=max(y1)`  \n",
    ">>`print(\"La flèche de la trajectoire est\",round(fleche,2), \"m\")`\n",
    "\n",
    "Garance augmente de 5° l'angle de tir du lance balle pour augmenter la difficulté.\n",
    "\n",
    ">Q7- Modifier le programme et adapter les dimensions du graphique pour afficher correctement les courbes.\n",
    "\n",
    ">Q8- Phalco peut-il toujours attraper la balle quelle que soit sa position ?\n",
    "\n",
    ">QBonus- Ajouter 2 lignes dans le programme afin d'afficher la valeur de la portée du tir, c'est-à-dire le point au sol atteint par la balle, et déterminer l'influence de l'angle de tir sur la portée et la flèche.\n"
   ]
  },
  {
   "cell_type": "code",
   "execution_count": null,
   "metadata": {},
   "outputs": [],
   "source": []
  }
 ],
 "metadata": {
  "kernelspec": {
   "display_name": "Python 3",
   "language": "python",
   "name": "python3"
  },
  "language_info": {
   "codemirror_mode": {
    "name": "ipython",
    "version": 3
   },
   "file_extension": ".py",
   "mimetype": "text/x-python",
   "name": "python",
   "nbconvert_exporter": "python",
   "pygments_lexer": "ipython3",
   "version": "3.8.7"
  }
 },
 "nbformat": 4,
 "nbformat_minor": 4
}
