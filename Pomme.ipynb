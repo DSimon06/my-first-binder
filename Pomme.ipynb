{
 "cells": [
  {
   "cell_type": "code",
   "execution_count": 18,
   "id": "ae502b50",
   "metadata": {},
   "outputs": [
    {
     "name": "stdout",
     "output_type": "stream",
     "text": [
      "rouge = 155 vert = 108 bleu = 56\n"
     ]
    }
   ],
   "source": [
    "from PIL import Image               # Importe les bibliothèque nécessaires.\n",
    "\n",
    "img = Image.open(\"pomme.jpg\")       # Ouvre le fichier pomme.jpg.\n",
    "\n",
    "r,v,b = img.getpixel((275,130))     # Récupère dans les variables r,v,b, la quantité de rouge, de vert et de bleu \n",
    "                                    # du pixel situé en x=100 et y=250.\n",
    "\n",
    "print(\"rouge =\",r,\"vert =\",v,\"bleu =\",b)\n",
    "\n",
    "Pixel = Image.new('RGB', (300, 300), (r,v,b)) # Affiche le pixel considéré \"en grand\".\n",
    "display(Pixel)\n",
    "display(img)"
   ]
  },
  {
   "cell_type": "code",
   "execution_count": 17,
   "id": "c2da6a32",
   "metadata": {},
   "outputs": [],
   "source": [
    "from PIL import Image\n",
    "\n",
    "img = Image.open(\"pomme.jpg\")       # ouverture de l'image\n",
    "\n",
    "img.putpixel((275,130),(255,0,0)) # changement du pixel situé à la coordonnée 250,250) par les valeurs (255,0,0)\n",
    "                                    \n",
    "display(img)                          # affichage de l'image\n",
    "img.save(\"pomme modif.png\",\"png\")   # enregistrement de la nouvelle image"
   ]
  },
  {
   "cell_type": "code",
   "execution_count": 5,
   "id": "0cfd6742",
   "metadata": {},
   "outputs": [],
   "source": [
    "from PIL import Image\n",
    "\n",
    "img = Image.open(\"pomme.jpg\")\n",
    "largeur,hauteur = img.size\n",
    "\n",
    "for y in range(hauteur):\n",
    "    for x in range(largeur):\n",
    "        r,v,b = img.getpixel((x,y))\n",
    "        nr = v\n",
    "        nv = b\n",
    "        nb = r\n",
    "        img.putpixel((x,y),(nr,nv,nb))\n",
    "\n",
    "img.show()\n",
    "img.save(\"pomme_modif.png\",\"png\")"
   ]
  },
  {
   "cell_type": "code",
   "execution_count": 6,
   "id": "920fca11",
   "metadata": {},
   "outputs": [],
   "source": [
    "import sys                          # importation des librairies utilisées\n",
    "from PIL import Image,ImageOps\n",
    "\n",
    "   \n",
    "img = Image.open(\"pomme.jpg\")       # ouverture du fichier image dans une variable \"img\"\n",
    "\n",
    "largeur = img.size[0]               # récupération de la taille de l'image (largeur, hauteur)\n",
    "hauteur = img.size[1]\n",
    " \n",
    "imgGrise = Image.new(img.mode,img.size) # création d'une image de même type mais vide stocké dans la variable imgGrise\n",
    "\n",
    "# Boucle de traitement des pixels :\n",
    "for y in range(hauteur):\n",
    "   for x in range(largeur):   \n",
    "      pixel = img.getpixel((x,y))   # récupération des 3 valeurs R,V et B du pixel de coordonnées (x,y)\n",
    "                                                                               \n",
    "      val = int((pixel[0] + pixel[1] + pixel[2])/3)           # calcul de la valeur de gris\n",
    "      imgGrise.putpixel((x,y), (val,val,val))                 # injection de la valeur de gris dans le pixel\n",
    "\n",
    "imgGrise.show()                          # affichage de la nouvelle image\n",
    "\n",
    "imgGrise.save(\"pomme grise.png\",\"png\")   # enregistrement de la nouvelle image"
   ]
  },
  {
   "cell_type": "code",
   "execution_count": null,
   "id": "206d3762",
   "metadata": {},
   "outputs": [],
   "source": []
  }
 ],
 "metadata": {
  "kernelspec": {
   "display_name": "Python 3",
   "language": "python",
   "name": "python3"
  },
  "language_info": {
   "codemirror_mode": {
    "name": "ipython",
    "version": 3
   },
   "file_extension": ".py",
   "mimetype": "text/x-python",
   "name": "python",
   "nbconvert_exporter": "python",
   "pygments_lexer": "ipython3",
   "version": "3.8.8"
  }
 },
 "nbformat": 4,
 "nbformat_minor": 5
}
