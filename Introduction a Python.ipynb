{
 "cells": [
  {
   "cell_type": "markdown",
   "metadata": {
    "slideshow": {
     "slide_type": "slide"
    }
   },
   "source": [
    "# Introduction à Python"
   ]
  },
  {
   "cell_type": "markdown",
   "metadata": {},
   "source": [
    "## 1 - Variables et affectation \n",
    "\n",
    ">**Exercice 1** - Après exécution de l'algorithme suivant, quelles valeurs contiendront les variables x, y et z ? "
   ]
  },
  {
   "cell_type": "code",
   "execution_count": null,
   "metadata": {},
   "outputs": [],
   "source": [
    "x=2\n",
    "y=3\n",
    "z=x+y"
   ]
  },
  {
   "cell_type": "markdown",
   "metadata": {},
   "source": [
    "Vérifier la réponse en ajoutant 3 lignes de code après la ligne `z=x+y` :\n",
    "\n",
    "`print(x)` *(qui demande d'afficher la valeur stockée dans la variable x)*\n",
    "\n",
    "`print(y)`\n",
    "\n",
    "`print(z)`\n",
    "\n",
    "et exécuter le programme (bouton triangle dans la barre d'outils en haut du document).\n"
   ]
  },
  {
   "cell_type": "markdown",
   "metadata": {},
   "source": [
    ">**Exercice 2** - Après exécution de l'algorithme suivant, quelle valeur contiendra la variable x ? "
   ]
  },
  {
   "cell_type": "code",
   "execution_count": null,
   "metadata": {},
   "outputs": [],
   "source": [
    "x=2\n",
    "x=x+1"
   ]
  },
  {
   "cell_type": "markdown",
   "metadata": {},
   "source": [
    "Vérifier la réponse à la question en ajoutant une ligne de code demandant d'afficher la valeur de x.\n",
    "\n",
    ">**Exercice 3** - Après exécution de l'algorithme suivant, quelle valeur contiendra la variable x ? \n"
   ]
  },
  {
   "cell_type": "code",
   "execution_count": null,
   "metadata": {},
   "outputs": [],
   "source": [
    "x=2\n",
    "x=x+1\n",
    "x=4*x"
   ]
  },
  {
   "cell_type": "markdown",
   "metadata": {},
   "source": [
    "Vérifier la réponse à la question en ajoutant une ligne de code demandant d'afficher la valeur de x.\n",
    "\n",
    ">**Exercice 4** - Après exécution de l'algorithme suivant, quelles valeurs contiendront les variables A, B et C ? \n"
   ]
  },
  {
   "cell_type": "code",
   "execution_count": null,
   "metadata": {},
   "outputs": [],
   "source": [
    "A=5\n",
    "B=3\n",
    "C=A+B\n",
    "B=B+A\n",
    "A=C"
   ]
  },
  {
   "cell_type": "markdown",
   "metadata": {},
   "source": [
    "Vérifier la réponse à la question.\n",
    "\n",
    ">**Exercice 5** - On considère l'algorithme suivant.\n",
    "\n",
    "La première ligne sert à demander à l'utilisateur d'entrer (*input* en anglais) une valeur pour x, qui sera traitée comme un entier (*integer*, soit `int`, en anglais).  \n",
    "Executer le programme pour x = 10."
   ]
  },
  {
   "cell_type": "code",
   "execution_count": null,
   "metadata": {},
   "outputs": [],
   "source": [
    "x=int(input(\"Entrer un nombre entier : x = \"))\n",
    "y=x-2\n",
    "z=-3*y-4\n",
    "print(z)"
   ]
  },
  {
   "cell_type": "markdown",
   "metadata": {},
   "source": [
    "On cherche maintenant à obtenir un algorithme équivalent sans utiliser la variable y. Compléter la ligne `z=` dans l'algorithme ci-dessous pour qu'il réponde au problème."
   ]
  },
  {
   "cell_type": "code",
   "execution_count": null,
   "metadata": {},
   "outputs": [],
   "source": [
    "x=int(input(\"Entrer un nombre entier : x =\"))\n",
    "z=\n",
    "print(z)"
   ]
  },
  {
   "cell_type": "markdown",
   "metadata": {},
   "source": [
    "## 2 - Instructions conditionnelles\n",
    "\n",
    "### Condition `if` ...  *(si ...)*\n",
    "\n",
    ">**Exercice 6** - On cherche à créer un algorithme qui calcule la racine carrée d'un nombre, si celui-ci est positif.\n",
    "\n",
    "Compléter la ligne `if` dans l'algorithme ci-dessous pour qu'il réponde au problème.\n",
    "\n",
    "**Remarque :** Pour pouvoir calculer une racine carrée (*square root*, soit `sqrt` en anglais), il faut d'abord importer la bibliothèque `math`, qui contient de nombreuses fonctions usuelles. Ce qui explique la première ligne."
   ]
  },
  {
   "cell_type": "code",
   "execution_count": null,
   "metadata": {},
   "outputs": [],
   "source": [
    "from math import*\n",
    "x=int(input(\"Entrer un nombre entier : x = \"))\n",
    "if\n",
    "    racine=sqrt(x)\n",
    "    print(racine)"
   ]
  },
  {
   "cell_type": "markdown",
   "metadata": {},
   "source": [
    ">**Exercice 7** - Après exécution de l'algorithme suivant, quelles valeurs contiendront les variables A, et B ?"
   ]
  },
  {
   "cell_type": "code",
   "execution_count": null,
   "metadata": {},
   "outputs": [],
   "source": [
    "A=1\n",
    "B=3\n",
    "if A>0 :\n",
    "    A=A+1\n",
    "if B>4 :\n",
    "    B=B-1"
   ]
  },
  {
   "cell_type": "markdown",
   "metadata": {},
   "source": [
    "Vérifier la réponse à la question.\n",
    "\n",
    "### Condition `if` ... `else` ... *(si ... sinon ...)*\n",
    "\n",
    ">**Exercice 8** - On cherche à créer un algorithme qui demande à l'utilisateur d'entrer deux nombres, et d'afficher le plus grand des deux.\n",
    "\n",
    "Compléter les lignes `print` dans l'algorithme ci-dessous pour qu'il réponde au problème."
   ]
  },
  {
   "cell_type": "code",
   "execution_count": null,
   "metadata": {},
   "outputs": [],
   "source": [
    "x=int(input(\"Entrer un nombre entier : x =\"))\n",
    "y=int(input(\"Entrer un nombre entier : y =\"))\n",
    "if x>y :\n",
    "    print\n",
    "else :\n",
    "    print"
   ]
  },
  {
   "cell_type": "markdown",
   "metadata": {},
   "source": [
    "Vérifier la réponse à la question.\n",
    "\n",
    "## 3 - Boucles\n",
    "\n",
    "### La boucle `for` ...  *(pour ...)*\n",
    "\n",
    ">**Exercice 9** - On cherche à créer un algorithme qui affiche la table de 8 : de 8x1 à 8x10.\n",
    "\n",
    "La variable `i` sert de compteur à la boucle et la variable `produit` sert à stocker les nombres de la table.\n",
    "\n",
    "Compléter les lignes `for i in range` et `produit=` dans l'algorithme ci-dessous pour qu'il réponde au problème."
   ]
  },
  {
   "cell_type": "code",
   "execution_count": null,
   "metadata": {},
   "outputs": [],
   "source": [
    "for i in range(\n",
    "    produit=\n",
    "    print(produit)"
   ]
  },
  {
   "cell_type": "markdown",
   "metadata": {},
   "source": [
    ">**Exercice 10** - On cherche à créer un algorithme qui fasse la somme des nombres entiers de 1 à 99.\n",
    "\n",
    "Compléter les lignes 2 et 3 de l'algorithme ci-dessous pour qu'il réponde au problème."
   ]
  },
  {
   "cell_type": "code",
   "execution_count": null,
   "metadata": {},
   "outputs": [],
   "source": []
  },
  {
   "cell_type": "code",
   "execution_count": null,
   "metadata": {},
   "outputs": [],
   "source": [
    "somme=0\n",
    "for i in range (\n",
    "    somme=\n",
    "print(somme)"
   ]
  },
  {
   "cell_type": "markdown",
   "metadata": {},
   "source": [
    "Qu'est-ce qui changerait si l'on décalait la ligne `print` pour l'aligner sous la ligne `somme=` ?\n",
    "\n",
    "Vérififer la réponse."
   ]
  },
  {
   "cell_type": "markdown",
   "metadata": {},
   "source": [
    ">**Exercice 11** - Ecrire un algorithme qui fasse la somme des carrés des nombres entiers de 5 à 25, en se basant sur celui de l'exercice 10.\n",
    "\n",
    "5² se programme `5**2`."
   ]
  },
  {
   "cell_type": "code",
   "execution_count": null,
   "metadata": {},
   "outputs": [],
   "source": []
  },
  {
   "cell_type": "markdown",
   "metadata": {},
   "source": [
    "### La boucle `while` ... *(tant que ...)*\n",
    "\n",
    ">**Exercice 12** - On cherche à savoir ce qu'il reste si on enlève 25 autant de fois que l'on peut au nombre 583.  \n",
    "Pour cela, on utilise une variable n, qui contient 583 au début, à laquelle on enlève 25 tant que c'est possible, c'est-à-dire tant que n est supérieur ou égal à 25.\n",
    "\n",
    "Compléter les lignes `n=` de l'algorithme ci-dessous pour qu'il réponde au problème."
   ]
  },
  {
   "cell_type": "code",
   "execution_count": null,
   "metadata": {
    "scrolled": true
   },
   "outputs": [],
   "source": [
    "n=\n",
    "while n>=25:\n",
    "    n=\n",
    "print(n)"
   ]
  },
  {
   "cell_type": "markdown",
   "metadata": {},
   "source": [
    ">**Exercice 13** - Un individu emprunte à un ami une somme de 2500 €. Pour rembourser son ami, il compte lui remettre 110 € par mois. Il se demande combien de mois cela prendra. Et comme cela ne correspond pas à un nombre entier de mois, il se demande quel sera le montant à rembourser le dernier mois.\n",
    "\n",
    "Compléter l'algorithme ci-dessous pour qu'il réponde au problème. ***Ne pas modifier les deux dernières lignes.***"
   ]
  },
  {
   "cell_type": "code",
   "execution_count": null,
   "metadata": {},
   "outputs": [],
   "source": [
    "montant=\n",
    "nombre_de_mois=1\n",
    "while\n",
    "    montant=\n",
    "    nombre_de_mois=\n",
    "print(\"Le remboursement durera en tout \",nombre_de_mois,\" mois.\")\n",
    "print(\"Le dernier mois, le montant sera de \",montant,\" €.\")"
   ]
  },
  {
   "cell_type": "markdown",
   "metadata": {},
   "source": [
    "Vérifier les valeurs obtenues en les utilisant pour calculer le montant total remboursé à la calculatrice.\n",
    "\n",
    ">**Exercice 14** - On lance une balle d'une hauteur *h* = 300 cm (= 3 mètres). On suppose qu'à chaque rebond, la balle perd 10 % de sa hauteur (la hauteur est donc multipliée par 0,9 à chaque rebond). On cherche à savoir le nombre de rebonds nécessaires pour que la hauteur de la balle soit inférieure ou égale à 10 cm.\n",
    "\n",
    "Compléter l'algorithme ci-dessous pour qu'il réponde au problème."
   ]
  },
  {
   "cell_type": "code",
   "execution_count": null,
   "metadata": {},
   "outputs": [],
   "source": [
    "h=300\n",
    "nombre_rebonds=0\n",
    "while\n",
    "    h=\n",
    "    nombre_rebonds=\n",
    "print(nombre_rebonds)"
   ]
  },
  {
   "cell_type": "markdown",
   "metadata": {},
   "source": [
    "## 4 - Fonctions\n",
    "\n",
    ">**Exercice 15** - Si on veut savoir facilement combien de rebonds on obtient pour différentes hauteurs, on peut créer une fonction, qu'on appelle par exemple \"Rebonds\", ayant comme paramètre la hauteur initiale en cm.\n",
    "\n",
    "Ajouter 3 lignes à la fin du programme ci-dessous pour qu'il affiche le nombre de rebonds pour des hauteurs initiales de 400 cm, 500 cm et 600 cm."
   ]
  },
  {
   "cell_type": "code",
   "execution_count": null,
   "metadata": {},
   "outputs": [],
   "source": [
    "def Rebonds(h):\n",
    "    nombre_rebonds=0\n",
    "    while h>10:\n",
    "        h=h*0.9\n",
    "        nombre_rebonds=nombre_rebonds+1\n",
    "    return(nombre_rebonds)\n",
    "print(Rebonds(300))\n"
   ]
  },
  {
   "cell_type": "markdown",
   "metadata": {},
   "source": [
    ">**Exercice 16** - Un décorateur d'intérieur programme les plans des pièces qu'il aménage. Il a souvent besoin de connaître la longueur de la diagonale des pièces qu'il modélise. Il crée donc une fonction \"diagonale\", avec comme paramètres la longueur L et la largeur l de la pièce.\n",
    "\n",
    "Compléter la ligne `d=` dans l'algorithme ci-dessous pour qu'il réponde au problème.\n",
    "\n",
    "**Aides :**\n",
    "\n",
    "*D'après le théorème de Pythagore : d² = longueur² + largeur²*  \n",
    "*La \"racine carrée\" est une fonction qui se programme `sqrt(...)`.  \n",
    "Et x² se programme `x**2`.*"
   ]
  },
  {
   "cell_type": "code",
   "execution_count": null,
   "metadata": {},
   "outputs": [],
   "source": [
    "from math import*\n",
    "def diagonale(longeur,largeur):\n",
    "    d=\n",
    "    return d\n",
    "print(diagonale(10,5))"
   ]
  },
  {
   "cell_type": "markdown",
   "metadata": {},
   "source": [
    "Utiliser le programme pour calculer la longueur de la diagonale d'une pièce de 4 m par 3 m.\n",
    "\n",
    ">**Exercice 17** - Les pays anglo-saxons mesurent les températures en degré Farenheit (°F). Créer une fonction \"Celsius\", qui permette de convertir en °C une température donnée en °F.\n",
    "\n",
    " Les formules permettant de convertir une température de °C vers °F ou l'inverse sont les suivantes :\n",
    "![F](https://treatcurefast.com/ezoimgfmt/cdn1.treatcurefast.com/wp-content/uploads/2015/09/37.4-celsius-to-fahrenheit-convert.jpg?ezimgfmt=ng:webp/ngcb5)"
   ]
  },
  {
   "cell_type": "markdown",
   "metadata": {},
   "source": [
    ">**Exercice 18** - Dans une école de rugby, il y a quatre groupes.  \n",
    "Dans le groupe U8, pour les joueurs entre 8 ans inclus et 10 ans exclus.  \n",
    "Dans le groupe U10, pour les joueurs entre 10 ans inclus et 12 ans exclus.  \n",
    "Dans le groupe U12, pour les joueurs entre 12 ans inclus et 14 ans exclus.  \n",
    "Dans le groupe U14, pour les joueurs entre 14 ans inclus et 16 ans exclus.\n",
    "\n",
    "Compléter la première ligne `if` ci-dessous et ajouter toutes les lignes néessaires dans l'espace libre pour que l'algorithme affiche le groupe lorsque l'utilisateur entre l'âge du joueur."
   ]
  },
  {
   "cell_type": "code",
   "execution_count": null,
   "metadata": {},
   "outputs": [],
   "source": [
    "a=int(input(\"Donner l'âge du joueur : \"))\n",
    "def affectation(a):\n",
    "    if\n",
    "        return(\"trop jeune\")\n",
    "    if 8<=a<10:\n",
    "        return(\"U8\")\n",
    "    \n",
    "    \n",
    "    \n",
    "    \n",
    "    \n",
    "    \n",
    "print(affectation(a))"
   ]
  },
  {
   "cell_type": "code",
   "execution_count": null,
   "metadata": {},
   "outputs": [],
   "source": []
  }
 ],
 "metadata": {
  "kernelspec": {
   "display_name": "Python 3",
   "language": "python",
   "name": "python3"
  },
  "language_info": {
   "codemirror_mode": {
    "name": "ipython",
    "version": 3
   },
   "file_extension": ".py",
   "mimetype": "text/x-python",
   "name": "python",
   "nbconvert_exporter": "python",
   "pygments_lexer": "ipython3",
   "version": "3.8.8"
  }
 },
 "nbformat": 4,
 "nbformat_minor": 4
}
