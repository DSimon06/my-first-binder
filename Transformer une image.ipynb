{
 "cells": [
  {
   "cell_type": "markdown",
   "metadata": {},
   "source": [
    "# **Transformer une image**  \n",
    "## 1- Niveaux de gris  \n",
    "\n",
    "Afin de convertir l'image de la pomme en niveaux de gris, on crée un programme.\n",
    "\n",
    "Le programme devra :  \n",
    "1. Importer les bibliothèques nécessaires.  \n",
    "2. Ouvrir l'image \"pomme.jpg\".  \n",
    "3. Récupérer les dimensions de l'image (largeur et hauteur).  \n",
    "4. Créer une nouvelle image appelée \"imgGrise\" de mêmes caractéristiques que la précédente.  \n",
    "5. Récupérer les valeurs r, v, b de chaque pixel, et les remplacer par la moyenne des 3.  \n",
    "6. Afficher les deux images et enregistrer l'image grise.  \n",
    "    \n",
    "> **Réordonner** les 6 cases de code ci-dessous, grâce aux flèches haut et bas en haut de la page, afin qu'elles suivent l'ordre du programme décrit.  \n",
    "***Ne pas modifier le contenu du code !!***\n",
    "\n",
    ">**Exécuter** les 5 premières cases de code dans l'ordre, l'une après l'autre.  \n",
    "*On constate que la 5ème étape ne fonctionne pas.*"
   ]
  },
  {
   "cell_type": "code",
   "execution_count": null,
   "metadata": {},
   "outputs": [],
   "source": [
    "for y in range(hauteur):\n",
    "    for x in range(largeur):\n",
    "        r,v,b = img.getpixel((x,y))                                       \n",
    "        m = int()\n",
    "        imgGrise.putpixel((x,y), (,,))"
   ]
  },
  {
   "cell_type": "code",
   "execution_count": null,
   "metadata": {},
   "outputs": [],
   "source": [
    "largeur,hauteur = img.size"
   ]
  },
  {
   "cell_type": "code",
   "execution_count": null,
   "metadata": {},
   "outputs": [],
   "source": [
    "img = Image.open(\"pomme.jpg\")"
   ]
  },
  {
   "cell_type": "code",
   "execution_count": null,
   "metadata": {},
   "outputs": [],
   "source": [
    "display(img)\n",
    "display(imgGrise)\n",
    "imgGrise.save(\"pomme grise.png\",\"png\")"
   ]
  },
  {
   "cell_type": "code",
   "execution_count": null,
   "metadata": {},
   "outputs": [],
   "source": [
    "import sys\n",
    "from PIL import Image,ImageOps"
   ]
  },
  {
   "cell_type": "code",
   "execution_count": null,
   "metadata": {},
   "outputs": [],
   "source": [
    "imgGrise = Image.new(img.mode,img.size)"
   ]
  },
  {
   "cell_type": "markdown",
   "metadata": {},
   "source": [
    "En effet, **le code de l'étape 5** est incomplet.  \n",
    "Il est constitué de deux boucles `for` permettant de parcourir l'image en hauteur et en largeur. Pour chaque pixel de coordonnées (x, y), 3 instructions sont réalisées :\n",
    "- Récupérer les valeurs RVB du pixel dans les variables `r`, `v`, et `b`.\n",
    "- Calculer la moyenne `m` de ces 3 valeurs et l'arrondir à l'entier `int` le plus proche.\n",
    "- Remplacer les composantes RVB du pixel par leur valeur en niveau de gris.\n",
    "\n",
    "> `m = int()` : Entre les parenthèses, **écrire** le calcul permettant d'obtenir la moyenne des 3 valeurs de `r`, `v`, et `b`.\n",
    "\n",
    "\n",
    "> `imgGrise.putpixel((x,y), (,,))` : Entre les parenthèses `(,,)` **écrire** les 3 nouvelles coordonnées du pixel en nivau de gris.\n",
    "\n",
    "> **Exécuter** à nouveau l'étape 5 puis l'étape 6."
   ]
  },
  {
   "cell_type": "markdown",
   "metadata": {},
   "source": [
    "## 2- Changer la couleur de la pomme  \n",
    "    \n",
    "> **Compléter** les 3 lignes de code `nr =`, `nv =`, `nb =`, grâce aux expressions établies sur la feuille du TP.\n",
    "\n",
    "> Entre les parenthèses `(,,)` **écrire** les 3 nouvelles coordonnées du pixel dans les teintes fushia.\n",
    "\n",
    "> Exécuter le programme."
   ]
  },
  {
   "cell_type": "code",
   "execution_count": null,
   "metadata": {},
   "outputs": [],
   "source": [
    "from PIL import Image\n",
    "\n",
    "img = Image.open(\"pomme.jpg\")\n",
    "largeur,hauteur = img.size\n",
    "\n",
    "for y in range(hauteur):\n",
    "    for x in range(largeur):\n",
    "        r,v,b = img.getpixel((x,y))\n",
    "        nr =\n",
    "        nv =\n",
    "        nb =\n",
    "        img.putpixel((x,y), (,,))\n",
    "\n",
    "display(img)\n",
    "img.save(\"pomme_fuchsia.png\",\"png\")"
   ]
  },
  {
   "cell_type": "markdown",
   "metadata": {},
   "source": [
    "> **Modifier** le programme pour obtenir d'autres teintes pour la pomme."
   ]
  },
  {
   "cell_type": "markdown",
   "metadata": {},
   "source": [
    "## 3- Changer la couleur du fond  \n",
    "\n",
    "> Entre les parenthèses `(,,)` **écrire** les 3 nouvelles coordonnées du pixel.\n",
    "\n",
    "> **Exécuter** le programme et **répondre** aux questions 7, 8 et 9 sur la feuille."
   ]
  },
  {
   "cell_type": "code",
   "execution_count": null,
   "metadata": {},
   "outputs": [],
   "source": [
    "from PIL import Image\n",
    "img = Image.open(\"pomme.jpg\")\n",
    "largeur,hauteur = img.size\n",
    "\n",
    "for y in range(hauteur):\n",
    "    for x in range(largeur):\n",
    "        r,v,b = img.getpixel((x,y))\n",
    "        if r==255 and v==255 and b==255:\n",
    "            img.putpixel((x,y), (,,)) \n",
    "display(img)        \n",
    "img.save(\"pomme fond en rouge.png\",\"png\")"
   ]
  },
  {
   "cell_type": "markdown",
   "metadata": {},
   "source": [
    "\n",
    "> **Remplacer** la condition : \"si le pixel est blanc\" par : \"si la moyenne des 3 composantes rvb est supérieure à la valeur de gris très clair\".\n",
    "\n",
    "> **Exécuter** le programme et **affiner** la valeur du \"gris très clair\" pour obtenir un rendu optimal."
   ]
  },
  {
   "cell_type": "code",
   "execution_count": null,
   "metadata": {},
   "outputs": [],
   "source": []
  }
 ],
 "metadata": {
  "kernelspec": {
   "display_name": "Python 3",
   "language": "python",
   "name": "python3"
  },
  "language_info": {
   "codemirror_mode": {
    "name": "ipython",
    "version": 3
   },
   "file_extension": ".py",
   "mimetype": "text/x-python",
   "name": "python",
   "nbconvert_exporter": "python",
   "pygments_lexer": "ipython3",
   "version": "3.8.7"
  }
 },
 "nbformat": 4,
 "nbformat_minor": 5
}
