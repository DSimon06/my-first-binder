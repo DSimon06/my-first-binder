{
 "cells": [
  {
   "cell_type": "markdown",
   "id": "787083b1",
   "metadata": {},
   "source": [
    "# Voici un exemple de programme à compléter pour calculer la longueur d'onde émise quand on connait 2 niveaux d'énergie.\n"
   ]
  },
  {
   "cell_type": "markdown",
   "id": "0b0b36b6",
   "metadata": {},
   "source": [
    "**Entrer les constantes nécessaires pour calculer les longueurs d'ondes en nm**\n",
    "La puissance de 10 s'écrit e ; la virgule est remplacée par un point (exemple : 4,0x10^5 sécrit dans python 4.0e5).\n"
   ]
  },
  {
   "cell_type": "code",
   "execution_count": 8,
   "id": "f29b1711",
   "metadata": {},
   "outputs": [],
   "source": [
    "import numpy as nmp\n",
    "h = 6.36e-34\n",
    "c=3e8"
   ]
  },
  {
   "cell_type": "markdown",
   "id": "50bdd242",
   "metadata": {},
   "source": [
    "**Demander d'entrer 2 valeurs d'énergie en eV**.\n",
    "Les niveaux d'énergie s'appeleront E1 et E2, ce sera des nombres décimaux. Prendre exemple sur l'exercice 18 page 316."
   ]
  },
  {
   "cell_type": "code",
   "execution_count": null,
   "id": "5de31995",
   "metadata": {},
   "outputs": [],
   "source": [
    "E1=float(input(\"Quelle est la valeur du premier niveau d'énergie en eV ?\"))\n",
    "E2=float(input(\"Quelle est la valeur du second niveau d'énergie en eV ?\"))\n"
   ]
  },
  {
   "cell_type": "markdown",
   "id": "10341986",
   "metadata": {},
   "source": [
    "**Calculer la variation d'énergie en eV puis la faire afficher à l'écran.** La variation d'énergie s'appelera EenEV. Prendre exemple sur l'exercice 18 page 316."
   ]
  },
  {
   "cell_type": "code",
   "execution_count": null,
   "id": "ee206d37",
   "metadata": {},
   "outputs": [],
   "source": [
    "EeneV=E2-E1\n",
    "print (\"La différence d'énergie entre les 2 niveaux est de : \",EeneV,\" eV\")"
   ]
  },
  {
   "cell_type": "markdown",
   "id": "8ac17ebc",
   "metadata": {},
   "source": [
    "**Déduire de la valeur de EeneV la variation d'énergie en Joule puis la faire afficher à l'écran.** La variation d'énergie s'appelera EenJ."
   ]
  },
  {
   "cell_type": "code",
   "execution_count": null,
   "id": "f05d8d38",
   "metadata": {},
   "outputs": [],
   "source": [
    "EenJ=EeneV*1.6e-19\n",
    "print (\"La différence d'énergie entre les 2 niveaux est de : \",EenJ,\" J\")"
   ]
  },
  {
   "cell_type": "markdown",
   "id": "be84a4f1",
   "metadata": {},
   "source": [
    "**Calculer la longueur d'onde en nanomètres et la faire afficher à l'écran**. Cette longueur d'ond s'appellera lambanm. ATTENTION aux unités"
   ]
  },
  {
   "cell_type": "code",
   "execution_count": null,
   "id": "21cfae45",
   "metadata": {},
   "outputs": [],
   "source": [
    "lambdanm=float(h*c/EenJ)*1e9\n",
    "print(\"La longueur d'onde de la radiation  émise est : \",lambdanm,\" nm\")\n"
   ]
  },
  {
   "cell_type": "markdown",
   "id": "b2933688",
   "metadata": {},
   "source": [
    "# Le but est de maintenant automatiser les calculs, de rentrer les valeurs des énergies dans une liste puis de calculer chaque saut d'énergie afin trouver les longueurs d'ondes des radiations absorbées ou émises."
   ]
  },
  {
   "cell_type": "markdown",
   "id": "1b2d36e2",
   "metadata": {},
   "source": [
    "**Enlever \"à compléter 1\" et la remplacer par la commande qui permet de demander d'entrer le nombre de niveaux d'énergie.** Ce nombre sera un entier (int).\n",
    "La suite du programme permet de créer une liste pour les niveaux d'énergie (liste E)\n",
    "\n",
    "**Enlever \"à compléter 2\" et la remplacer par la commande qui permet d'afficher la liste des variations d'énergie, préciser l'unité.**\n",
    "\n",
    "La suite du programme permet de créer une liste de longueurs d'onde (liste lo)\n",
    "**Enlever \"à compléter 3\" et la remplacer par la commande qui permet d'afficher la liste des longueurs d'onde, préciser l'unité.**"
   ]
  },
  {
   "cell_type": "code",
   "execution_count": null,
   "id": "c715a21c",
   "metadata": {},
   "outputs": [
    {
     "name": "stdout",
     "output_type": "stream",
     "text": [
      "Combien y a-t-il de niveaux d'énergie ? 3\n",
      "Vous donnerez les niveaux d'énergie par ordre croissant\n"
     ]
    }
   ],
   "source": [
    "\n",
    "    n = int(input (\"Combien y a-t-il de niveaux d'énergie ? \"))\n",
    "    valeurs =[ ]\n",
    "   \n",
    "    E=[]\n",
    "    print(\"Vous donnerez les niveaux d'énergie par ordre croissant.\")\n",
    "    for i in range(n) :\n",
    "        valeurs.append(float(input (\"valeur du niveau ?\")))  \n",
    "        for j in range(i) :\n",
    "            E.append(float(valeurs[i]-valeurs[j])*1.6e-19)\n",
    "    print(\"Les variations d'énergie en J sont : \",E)\n",
    "   \n",
    "    \n",
    "    lo=[]\n",
    "    for k in range(n):\n",
    "        lo.append((h*c/E[k])*1e9)\n",
    "    print(\"Les longueurs d'ondes en nm des radiations émises sont : \",lo)  \n",
    "    "
   ]
  },
  {
   "cell_type": "code",
   "execution_count": null,
   "id": "5a1b36dd",
   "metadata": {},
   "outputs": [],
   "source": []
  }
 ],
 "metadata": {
  "kernelspec": {
   "display_name": "Python 3 (ipykernel)",
   "language": "python",
   "name": "python3"
  },
  "language_info": {
   "codemirror_mode": {
    "name": "ipython",
    "version": 3
   },
   "file_extension": ".py",
   "mimetype": "text/x-python",
   "name": "python",
   "nbconvert_exporter": "python",
   "pygments_lexer": "ipython3",
   "version": "3.9.7"
  }
 },
 "nbformat": 4,
 "nbformat_minor": 5
}
