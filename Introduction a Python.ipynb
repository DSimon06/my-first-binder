{
 "cells": [
  {
   "cell_type": "markdown",
   "metadata": {
    "slideshow": {
     "slide_type": "slide"
    }
   },
   "source": [
    "# Introduction à Python"
   ]
  },
  {
   "cell_type": "markdown",
   "metadata": {},
   "source": [
    "### 1 - Variables et affectation \n",
    "\n",
    ">**Exercice 1** - Après exécution de l'algorithme suivant, quelles valeurs contiendront les variables x, y et z ? "
   ]
  },
  {
   "cell_type": "code",
   "execution_count": 10,
   "metadata": {},
   "outputs": [],
   "source": [
    "x=2\n",
    "y=3\n",
    "z=x+y"
   ]
  },
  {
   "cell_type": "markdown",
   "metadata": {},
   "source": [
    "Vérifier la réponse en ajoutant 3 lignes de code :\n",
    "\n",
    "`print(x)` *(qui demande d'afficher la valeur stockée dans la variable x)*\n",
    "\n",
    "`print(y)`\n",
    "\n",
    "`print(z)`\n",
    "\n",
    "et exécuter le programme (bouton triangle dans la barre d'outils).\n"
   ]
  },
  {
   "cell_type": "markdown",
   "metadata": {},
   "source": [
    ">**Exercice 2** - Après exécution de l'algorithme suivant, quelle valeur contiendra la variable x ? "
   ]
  },
  {
   "cell_type": "code",
   "execution_count": 11,
   "metadata": {},
   "outputs": [],
   "source": [
    "x=2\n",
    "x=x+1"
   ]
  },
  {
   "cell_type": "markdown",
   "metadata": {},
   "source": [
    "Vérifier la réponse à la question en ajoutant une ligne de code demandant d'afficher la valeur de x.\n",
    "\n",
    ">**Exercice 3** - Après exécution de l'algorithme suivant, quelle valeur contiendra la variable x ? \n"
   ]
  },
  {
   "cell_type": "code",
   "execution_count": 11,
   "metadata": {},
   "outputs": [],
   "source": [
    "x=2\n",
    "x=x+1\n",
    "x=4*x"
   ]
  },
  {
   "cell_type": "markdown",
   "metadata": {},
   "source": [
    "Vérifier la réponse à la question en ajoutant une ligne de code demandant d'afficher la valeur de x.\n",
    "\n",
    ">**Exercice 4** - Après exécution de l'algorithme suivant, quelles valeurs contiendront les variables A, B et C ? \n"
   ]
  },
  {
   "cell_type": "code",
   "execution_count": null,
   "metadata": {},
   "outputs": [],
   "source": [
    "A=5\n",
    "B=3\n",
    "C=A+B\n",
    "B=B+A\n",
    "A=C"
   ]
  },
  {
   "cell_type": "markdown",
   "metadata": {},
   "source": [
    "Vérifier la réponse à la question.\n",
    "\n",
    ">**Exercice 5** - On considère l'algorithme suivant.\n",
    "\n",
    "La première ligne sert à demander à l'utilisateur d'entrer (*input* en anglais) une valeur pour x, qui sera traitée comme un entier (*integer*, soit `int`, en anglais)"
   ]
  },
  {
   "cell_type": "code",
   "execution_count": null,
   "metadata": {},
   "outputs": [],
   "source": [
    "x=int(input(\"Entrer un nombre entier : x =\"))\n",
    "y=x-2\n",
    "z=-3*y-4\n",
    "print(z)"
   ]
  },
  {
   "cell_type": "markdown",
   "metadata": {},
   "source": [
    "On cherche maintenant à obtenir un algorithme équivalent sans utiliser la variable y. Compléter la ligne `z=` dans l'algorithme ci-dessous pour qu'il réponde au problème."
   ]
  },
  {
   "cell_type": "code",
   "execution_count": null,
   "metadata": {},
   "outputs": [],
   "source": [
    "x=int(input(\"Entrer un nombre entier : x =\"))\n",
    "z=\n",
    "print(z)"
   ]
  },
  {
   "cell_type": "markdown",
   "metadata": {},
   "source": [
    "### 2 - Boucles conditionnelles \n",
    "\n",
    ">**Exercice 6** - On cherche à créer un algorithme qui calcule la racine carrée d'un nombre, si celui-ci est positif.\n",
    "\n",
    "Compléter la ligne `if` dans l'algorithme ci-dessous pour qu'il réponde au problème.\n",
    "\n",
    "**Remarque :** Pour pouvoir calculer une racine carrée (*square root*, soit `sqrt` en anglais), il faut d'abord importer la bibliothèque `math`, qui contient de nombreuses fonctions usuelles. Ce qui explique la première ligne."
   ]
  },
  {
   "cell_type": "code",
   "execution_count": 17,
   "metadata": {},
   "outputs": [
    {
     "name": "stdout",
     "output_type": "stream",
     "text": [
      "Entrer un nombre entier : x =-10\n",
      "10\n"
     ]
    }
   ],
   "source": [
    "from math import*\n",
    "x=int(input(\"Entrer un nombre entier : x =\"))\n",
    "if\n",
    "    racine=sqrt(x)\n",
    "    print(racine)"
   ]
  },
  {
   "cell_type": "markdown",
   "metadata": {},
   "source": [
    ">**Exercice 7** - Après exécution de l'algorithme suivant, quelles valeurs contiendront les variables A, et B ?"
   ]
  },
  {
   "cell_type": "code",
   "execution_count": null,
   "metadata": {},
   "outputs": [],
   "source": [
    "A=1\n",
    "B=3\n",
    "if A>0 :\n",
    "    A=A+1\n",
    "if B>4 :\n",
    "    B=B-1"
   ]
  },
  {
   "cell_type": "markdown",
   "metadata": {},
   "source": [
    ">**Exercice 8** - On cherche à créer un algorithme qui demande à l'utilisateur d'entrer deux nombres, et d'afficher le plus grand des deux.\n",
    "\n",
    "Compléter les lignes `print` dans l'algorithme ci-dessous pour qu'il réponde au problème."
   ]
  },
  {
   "cell_type": "code",
   "execution_count": null,
   "metadata": {},
   "outputs": [],
   "source": [
    "x=int(input(\"Entrer un nombre entier : x =\"))\n",
    "y=int(input(\"Entrer un nombre entier : y =\"))\n",
    "if x>y :\n",
    "    print\n",
    "else :\n",
    "    print"
   ]
  },
  {
   "cell_type": "markdown",
   "metadata": {},
   "source": [
    "Vérifier la réponse à la question.\n",
    "\n",
    ">**Exercice 9** - On cherche à créer un algorithme qui affiche la table de 8 : de 8x1 à 8x10.\n",
    "\n",
    "La variable `i` sert de compteur à la boucle et la variable `produit` sert à stocker les nombres de la table.\n",
    "\n",
    "Compléter les lignes `for i in range` et `produit=` dans l'algorithme ci-dessous pour qu'il réponde au problème."
   ]
  },
  {
   "cell_type": "code",
   "execution_count": null,
   "metadata": {},
   "outputs": [],
   "source": [
    "for i in range(\n",
    "    produit=\n",
    "    print(produit)"
   ]
  },
  {
   "cell_type": "markdown",
   "metadata": {},
   "source": [
    ">**Exercice 10** - On cherche à créer un algorithme qui fasse la somme des nombres entiers de 1 à 99.\n",
    "\n",
    "Compléter l'algorithme ci-dessous pour qu'il réponde au problème."
   ]
  },
  {
   "cell_type": "code",
   "execution_count": 18,
   "metadata": {},
   "outputs": [
    {
     "name": "stdout",
     "output_type": "stream",
     "text": [
      "4950\n"
     ]
    }
   ],
   "source": [
    "somme=0\n",
    "for i in range (\n",
    "    somme=\n",
    "print(somme)"
   ]
  },
  {
   "cell_type": "markdown",
   "metadata": {},
   "source": [
    "Qu'est-ce qui changerait si l'on décalait la ligne `print` pour l'aligner sous la ligne `somme=` ?"
   ]
  },
  {
   "cell_type": "markdown",
   "metadata": {},
   "source": [
    ">**Exercice 11** - Ecrire un algorithme qui fasse la somme des carrés des nombres entiers de 5 à 25.\n",
    "\n",
    "5² se programme `5**2`."
   ]
  },
  {
   "cell_type": "code",
   "execution_count": null,
   "metadata": {},
   "outputs": [],
   "source": []
  }
 ],
 "metadata": {
  "kernelspec": {
   "display_name": "Python 3",
   "language": "python",
   "name": "python3"
  },
  "language_info": {
   "codemirror_mode": {
    "name": "ipython",
    "version": 3
   },
   "file_extension": ".py",
   "mimetype": "text/x-python",
   "name": "python",
   "nbconvert_exporter": "python",
   "pygments_lexer": "ipython3",
   "version": "3.8.7"
  }
 },
 "nbformat": 4,
 "nbformat_minor": 4
}
