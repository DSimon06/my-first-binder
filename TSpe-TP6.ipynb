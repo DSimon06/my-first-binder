{
 "cells": [
  {
   "cell_type": "markdown",
   "metadata": {},
   "source": [
    "# Somme de deux sinusoïdes"
   ]
  },
  {
   "cell_type": "markdown",
   "metadata": {},
   "source": [
    "On veut simuler la somme de deux sinusoïdes en fonction du déphasage Phi.  \n",
    "**1<sup>ère</sup> sinusoïde :** y<sub>1</sub>(t) = Y<sub>max</sub> * sin ( 2* pi * t / T )  \n",
    "**2<sup>ème</sup> sinusoïde :** y<sub>2</sub>(t) = Y<sub>max</sub> * sin ( 2 * pi * t / T  + **Phi**)\n",
    "\n",
    "### Déphasage Phi\n",
    "\n",
    ">**Q1-** Compléter le programme suivant avec les valeurs de l'amplitude Y<sub>max</sub> = 2 cm et la période T = 0,5 s puis exécuter le programme pour tracer les deux sinusoïdes y<sub>1</sub>(t) et y<sub>2</sub>(t).\n",
    "\n",
    ">**Q2-** Modifier la valeur de Phi en accord avec les valeurs calculées dans le TP. Exécuter à chaque fois le programme et observer l'influence sur les courbes de y<sub>1</sub>(t) et y<sub>2</sub>(t).\n",
    "\n",
    "Lorsque les deux courbes sont maximales au même instant, on dit qu'elles sont **en phase**.\n",
    "\n",
    "Lorsqu'une courbe est maximale alors que l'autre est minimale, on dit qu'elles sont **en opposition de phase**.\n",
    "\n",
    ">*Répondre à la question 6 sur la feuille du TP.*"
   ]
  },
  {
   "cell_type": "code",
   "execution_count": null,
   "metadata": {},
   "outputs": [],
   "source": [
    "import numpy as np\n",
    "import matplotlib.pyplot as plt\n",
    "from math import *\n",
    "\n",
    "# Choix des constantes\n",
    "Ymax =  # Amplitude en cm\n",
    "T =     # Période en s\n",
    "Phi = np.pi/4 # Déphasage (\"np.pi\" représente le nombre pi)\n",
    "\n",
    "# Calcul des fonctions\n",
    "t=np.linspace(0,1,1000) # 1000 valeurs entre 0 et 1 seconde\n",
    "y1 = Ymax*np.sin(2*np.pi*(t/T)) \n",
    "y2 = Ymax*np.sin(2*np.pi*(t/T)+Phi) \n",
    "                                    # Somme de y1 et y2\n",
    "\n",
    "# Construction du graphique\n",
    "plt.plot(t,y1, label=\"y1(t)\") # Tracé de la courbe y1\n",
    "plt.plot(t,y2, label=\"y2(t)\") # Tracé de la courbe y2\n",
    "                              # Tracé de la courbe somme de y1 et y2\n",
    "plt.ylim(-4.5,4.5) # Valeurs limites pour l'axe des ordonnées\n",
    "plt.grid() # Affichage d'un quadrillage\n",
    "plt.title(\"Somme de deux sinusoïdes\") # Titre du graphique\n",
    "plt.xlabel(\"t(s)\") # Etiquette de l'axe des abscisses\n",
    "plt.ylabel(\"y(cm)\") # Etiquette de l'axe des ordonnées\n",
    "plt.legend() # Affichage de la légende\n",
    "plt.show() # Affichage du graphique"
   ]
  },
  {
   "cell_type": "markdown",
   "metadata": {},
   "source": [
    "### Somme des sinusoïdes\n",
    "\n",
    ">**Q3-** Compléter le programme pour tracer sur le même graphique la somme des deux sinusoïdes : s(t) = y<sub>1</sub>(t) + y<sub>2</sub>(t).\n",
    "\n",
    ">**Q4-** A nouveau, modifier la valeur de Phi et exécuter à chaque fois le programme pour observer l'influence sur la somme des deux sinusoïdes s(t).\n",
    "\n",
    "### Importance de l'amplitude\n",
    "\n",
    ">**Q5-** Programmer une amplitude différente pour les deux sinusoïdes : Y<sub>max,1</sub> = 2 cm et Y<sub>max,2</sub> = 1,5 cm\n",
    "\n",
    ">**Q6-** Choisir une valeur de Phi correspondant à une opposition de phase des deux sinusoïdes et exécuter le programme.\n"
   ]
  },
  {
   "cell_type": "code",
   "execution_count": null,
   "metadata": {},
   "outputs": [],
   "source": []
  }
 ],
 "metadata": {
  "kernelspec": {
   "display_name": "Python 3",
   "language": "python",
   "name": "python3"
  },
  "language_info": {
   "codemirror_mode": {
    "name": "ipython",
    "version": 3
   },
   "file_extension": ".py",
   "mimetype": "text/x-python",
   "name": "python",
   "nbconvert_exporter": "python",
   "pygments_lexer": "ipython3",
   "version": "3.8.7"
  }
 },
 "nbformat": 4,
 "nbformat_minor": 4
}
