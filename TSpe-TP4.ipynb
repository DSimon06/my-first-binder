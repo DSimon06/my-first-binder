{
 "cells": [
  {
   "cell_type": "markdown",
   "metadata": {},
   "source": [
    "# TP4 - Les lois de Kepler"
   ]
  },
  {
   "cell_type": "markdown",
   "metadata": {},
   "source": [
    "### La première loi de Kepler\n",
    "\n",
    "Le programme ci-dessous permet d'entrer les valeurs de l'angle *thêta* en degré et de la distance *r* en U.A., de convertir les angles en radian puis d'afficher *thêta* et *r* pour une position donnée de Mars autour du soleil.\n",
    "\n",
    ">Q1- Compléter les deux lignes de code *thêta* et *r* du programme suivant, avec les séries de valeurs séparées par des virgules (voir fichier Excel), puis l’exécuter afin d’afficher les coordonnées polaires de la planète Mars en position n°3."
   ]
  },
  {
   "cell_type": "code",
   "execution_count": null,
   "metadata": {},
   "outputs": [],
   "source": [
    "import numpy as np\n",
    "import matplotlib.pyplot as plt\n",
    "from scipy import stats\n",
    "# Les 2 lignes suivantes sont à compléter :\n",
    "thêta = [0,26,51,75,97,117,136,155,176,194,212,231,251,273,296,321,347,373] # thêta en degré\n",
    "r = [1.381,1.393,1.427,1.475,1.528,1.577,1.619,1.650,1.666,1.661,1.640,1.605,1.558,1.503,1.451,1.408,1.384,1.384]# rayon vecteur en U.A = distance Soleil-Mars\n",
    "tet_radian = np.radians(thêta) # Convertir les degrés en radians\n",
    "print(\"Pour thêta = \",thêta[3],\"°, tet_radian = \",round(tet_radian[3],3),\"rad et r = \",r[3],\" U.A.\")"
   ]
  },
  {
   "cell_type": "markdown",
   "metadata": {},
   "source": [
    ">Q2- Ajouter une ligne de code pour afficher une deuxième position de votre choix de la planète Mars.\n",
    "\n",
    "On souhaite afficher la trajectoire de Mars dans le référentiel héliocentrique.\n",
    "\n",
    ">Q3- Compléter les deux lignes de code ci-dessous, correspondant au calcul de *x* et *y*.  \n",
    ">*Voir la première remarque du protocole 2 p.323, où thêta doit être exprimé en radian.*"
   ]
  },
  {
   "cell_type": "code",
   "execution_count": null,
   "metadata": {},
   "outputs": [],
   "source": [
    "x=r*np.cos(...) # x en coordonnées cartésiennes\n",
    "y=r*np.sin(...) # x en coordonnées cartésiennes\n",
    "plt.plot(x,y)"
   ]
  },
  {
   "cell_type": "markdown",
   "metadata": {},
   "source": [
    "### La deuxième loi de Kepler\n",
    "\n",
    ">Q4- Calculer le nombre de jours entre 2 dates successives des données et l'ajouter au programme ci-dessous.\n",
    "\n",
    ">Q5- Proposer une expression pour le calcul de la surface *S* des triangles curvilignes.  \n",
    ">*Voir la deuxième remarque du protocole 2 p.323.*"
   ]
  },
  {
   "cell_type": "code",
   "execution_count": null,
   "metadata": {},
   "outputs": [],
   "source": [
    "from math import *\n",
    "jours = ... # intervalle de temps en jours entre deux dates successives du tableau\n",
    "for i in range(0,len(r)-2):\n",
    "    S = (...)/2 # Surface du triangle curviligne\n",
    "    print(\"La surface du triangle n°\",i,\"est de\",round(S,3),\"U.A.², balayée en\",jours,\"jours.\")\n",
    "Smoy = np.mean(S)\n",
    "print(\"Le rayon-vecteur balaye une surface moyenne de\",round(Smoy,3),\"U.A.² en 42 jours.\")"
   ]
  },
  {
   "cell_type": "markdown",
   "metadata": {},
   "source": [
    ">Q6- Quel est le rôle de la ligne `Smoy=np.mean(S)` ?"
   ]
  },
  {
   "cell_type": "markdown",
   "metadata": {},
   "source": [
    "### La troisième loi de Kepler\n",
    "\n",
    ">Q6- Ajouter dans le programme ci-dessous les valeurs du demi grand axe *a* et de la période *T* obtenues pour Mars et compléter le calcul de *a*<sup>3</sup> et *T*<sup>2</sup>."
   ]
  },
  {
   "cell_type": "code",
   "execution_count": null,
   "metadata": {},
   "outputs": [],
   "source": [
    "import numpy as np\n",
    "import matplotlib.pyplot as plt\n",
    "\n",
    "a = np.array([0.39,0.72,1.0])# valeurs de demi grand axe en UA\n",
    "T = np.array([88,225,365])# valeurs de périodes de révolution en jours\n",
    "\n",
    "a3 =\n",
    "T2 =\n",
    "\n",
    "plt.xlabel(\"a\\u00B3(U.A\\u00B3)\")\n",
    "plt.ylabel(\"T\\u00B2(j\\u00B2)\")\n",
    "plt.scatter(a3,T2,c='red',marker='+', s=70)\n",
    "plt.title(\"Vérification de la troisième loi de Kepler\",color='grey')\n",
    "plt.grid()\n",
    "plt.axis([0,4,0,500000])\n",
    "slope, intercept, r_value, p_value, std_err = stats.linregress(a3,T2) # calcul de regression linéaire\n",
    "print(\"La valeur du coefficient directeur est : \",round(slope,1),\" j\\u00B2.U.A\\u207B\\u00B3.\") # affiche le coefficient directeur dans la console\n",
    "\n",
    "plt.show() # affiche la figure à l'écran"
   ]
  },
  {
   "cell_type": "markdown",
   "metadata": {},
   "source": [
    ">Q7- Que peut-on dire des grandeurs *T*<sup>2</sup> et *a*<sup>3</sup> ? Quelle relation lie ces deux grandeurs ?\n",
    "\n",
    ">Q8- Utiliser cette relation pour déterminer la période de révolution de Jupiter, sachant que son demi grand-axe *a* = 5,2 U.A.\n"
   ]
  },
  {
   "cell_type": "code",
   "execution_count": null,
   "metadata": {},
   "outputs": [],
   "source": []
  }
 ],
 "metadata": {
  "kernelspec": {
   "display_name": "Python 3",
   "language": "python",
   "name": "python3"
  },
  "language_info": {
   "codemirror_mode": {
    "name": "ipython",
    "version": 3
   },
   "file_extension": ".py",
   "mimetype": "text/x-python",
   "name": "python",
   "nbconvert_exporter": "python",
   "pygments_lexer": "ipython3",
   "version": "3.6.8"
  }
 },
 "nbformat": 4,
 "nbformat_minor": 4
}
