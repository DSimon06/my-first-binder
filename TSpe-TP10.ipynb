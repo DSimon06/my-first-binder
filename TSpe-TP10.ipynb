{
 "cells": [
  {
   "cell_type": "markdown",
   "metadata": {},
   "source": [
    "# TP10 - L'équilibre acido-basique"
   ]
  },
  {
   "cell_type": "markdown",
   "metadata": {},
   "source": [
    "La plupart des réactions acido-basiques en solution aqueuses sont limitées. A l'équilibre, il y a donc coexistence de l'acide et de la base conjuguée d'un couple.\n",
    "\n",
    "On s'intéresse dans un premier temps au **taux d'avancement** de ces équilibres acido-basiques et dans un deuxième temps à la **proportion d'acide et de base conjuguée** présentes à l'équilibre.\n",
    "\n",
    "\n",
    "\n",
    "### _Partie 1_ : Le taux d'avancement\n",
    "\n",
    "Le programme ci-dessous a pour but de représenter l'évolution du taux d'avancement à l'équilibre en fonction de la concentration apportée en acide, pour un couple de pKa donné.\n",
    "\n",
    ">Q1- Compléter le programme afin de calculer les valeurs de Ka_1, du discriminant Delta_1 et du TauxFinal_1, à l'aide des expressions établies dans le TP, puis exécuter le programme pour l'acide éthanoïque, de pKa = 4,75.  \n",
    "*Remarques* : \"puissance\" se programme par `**`. Une racine carrée correspond à une puissance 0,5.\n",
    "\n",
    ">Q2- La courbe obtenue est-elle cohérente avec les résultats expérimentaux ?\n",
    "\n",
    ">Q3- Ajouter toutes les lignes nécessaires pour superposer à cette courbe celle d'un deuxième couple de pKa_2.\n",
    "\n",
    ">Q4- Exécuter le programme pour différentes valeur de pKa_2 afin d'établir l'influence du pKa sur le taux d'avancement final."
   ]
  },
  {
   "cell_type": "code",
   "execution_count": null,
   "metadata": {},
   "outputs": [],
   "source": [
    "# Influence de la concentration apportée en acide sur le taux d'avancement final\n",
    "from matplotlib import pyplot as plt\n",
    "import numpy as np\n",
    "\n",
    "pKa_1 = float(input(\"Choisir la valeur du pKa du couple acide-base n°1 : pKa_1 = \"))\n",
    "Ka_1 =\n",
    "\n",
    "C = np.linspace(0.01,1,100) # 100 valeurs allant de 0,01 à 1\n",
    "\n",
    "Delta_1 =\n",
    "TauxFinal_1 =\n",
    "\n",
    "plt.title(\"Influence de la concentration sur le taux final\")\n",
    "plt.xlabel(\"C (mol/L)\")\n",
    "plt.ylabel(\"Taux d'avancement final\")\n",
    "plt.plot(C,TauxFinal_1,c=\"red\",marker=\"o\",label=\"Taux final du couple n°1\")\n",
    "\n",
    "plt.grid()\n",
    "plt.legend()\n",
    "plt.show()"
   ]
  },
  {
   "cell_type": "markdown",
   "metadata": {},
   "source": [
    "## *Retourner à l'énoncé du TP.*\n",
    "\n",
    "\n",
    "### _Partie 2_ : Diagramme de distribution\n",
    "\n",
    "Dans le programme suivant, on cherche à représenter les pourcentages respectifs de l'acide et de la base d'un couple, suivant le pH de la solution.\n",
    "\n",
    ">Q5- A l'aide des relations établies dans le TP, compléter les lignes de calcul de `CA` et `pB` du programme, puis l'exécuter pour l'acide éthanoïque, de pKa = 4,75 et *C* = 0,1 mol/L .\n",
    "\n",
    ">Q6- Comment repère-t-on la valeur du pKa du couple sur un diagramme de distribution ?"
   ]
  },
  {
   "cell_type": "code",
   "execution_count": null,
   "metadata": {},
   "outputs": [],
   "source": [
    "# Tracé du diagramme de distribution des espèces conjuguées AH/A- ou A/B\n",
    "\n",
    "import numpy as np\n",
    "from matplotlib import pyplot as plt\n",
    "\n",
    "pKa = float(input(\"Entrer la valeur du pKa du couple acide-base : pKa = \"))\n",
    "C = float(input(\"Entrer la valeur de la concentration apportée de l'acide en mol/L: C =\"))\n",
    "\n",
    "pH = np.linspace(0,14,141)# 141 valeurs allant de 0 à 14\n",
    "\n",
    "CA =                   # Concentration de l'acide AH\n",
    "CB = C-CA              # Concentration de la base A-\n",
    "\n",
    "pA = CA/C*100          # Pourcentage de l'espèce AH\n",
    "pB =                   # Pourcentage de l'espèce A-\n",
    "\n",
    "plt.title(\"Diagramme de distribution des espèces AH et A-\")\n",
    "plt.xlabel(\"pH\")\n",
    "plt.ylabel(\"Pourcentage des espèces (%)\")\n",
    "plt.grid(True)\n",
    "\n",
    "plt.plot(pH,pA,c='red',label=\"Pourcentage de la forme acide AH\") # Courbe du pourcentage de AH en fonction du pH\n",
    "plt.plot(pH,pB,c='green',label=\"Pourcentage de la forme basique A-\") # Courbe du pourcentage de A- en fonction du pH\n",
    "\n",
    "plt.legend()\n",
    "plt.show()"
   ]
  },
  {
   "cell_type": "markdown",
   "metadata": {},
   "source": [
    "## *Retourner à l'énoncé du TP.*"
   ]
  },
  {
   "cell_type": "code",
   "execution_count": null,
   "metadata": {},
   "outputs": [],
   "source": []
  }
 ],
 "metadata": {
  "kernelspec": {
   "display_name": "Python 3",
   "language": "python",
   "name": "python3"
  },
  "language_info": {
   "codemirror_mode": {
    "name": "ipython",
    "version": 3
   },
   "file_extension": ".py",
   "mimetype": "text/x-python",
   "name": "python",
   "nbconvert_exporter": "python",
   "pygments_lexer": "ipython3",
   "version": "3.8.8"
  }
 },
 "nbformat": 4,
 "nbformat_minor": 4
}
